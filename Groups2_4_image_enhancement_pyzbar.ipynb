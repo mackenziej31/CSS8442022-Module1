{
 "cells": [
  {
   "cell_type": "code",
   "execution_count": 12,
   "id": "167d569e",
   "metadata": {},
   "outputs": [
    {
     "ename": "error",
     "evalue": "OpenCV(4.5.4-dev) d:\\a\\opencv-python\\opencv-python\\opencv\\modules\\imgproc\\src\\color.simd_helpers.hpp:92: error: (-2:Unspecified error) in function '__cdecl cv::impl::`anonymous-namespace'::CvtHelper<struct cv::impl::`anonymous namespace'::Set<3,4,-1>,struct cv::impl::A0x0e9d99ad::Set<1,-1,-1>,struct cv::impl::A0x0e9d99ad::Set<0,2,5>,2>::CvtHelper(const class cv::_InputArray &,const class cv::_OutputArray &,int)'\n> Invalid number of channels in input image:\n>     'VScn::contains(scn)'\n> where\n>     'scn' is 1\n",
     "output_type": "error",
     "traceback": [
      "\u001b[1;31m---------------------------------------------------------------------------\u001b[0m",
      "\u001b[1;31merror\u001b[0m                                     Traceback (most recent call last)",
      "\u001b[1;32m<ipython-input-12-fd99effdb1d7>\u001b[0m in \u001b[0;36m<module>\u001b[1;34m\u001b[0m\n\u001b[0;32m     33\u001b[0m \u001b[1;33m\u001b[0m\u001b[0m\n\u001b[0;32m     34\u001b[0m \u001b[1;31m## Thresholding for 2D Barcodes ##\u001b[0m\u001b[1;33m\u001b[0m\u001b[1;33m\u001b[0m\u001b[1;33m\u001b[0m\u001b[0m\n\u001b[1;32m---> 35\u001b[1;33m \u001b[0mgray\u001b[0m \u001b[1;33m=\u001b[0m \u001b[0mcv\u001b[0m\u001b[1;33m.\u001b[0m\u001b[0mcvtColor\u001b[0m\u001b[1;33m(\u001b[0m\u001b[0mimg\u001b[0m\u001b[1;33m,\u001b[0m \u001b[0mcv\u001b[0m\u001b[1;33m.\u001b[0m\u001b[0mCOLOR_BGR2GRAY\u001b[0m\u001b[1;33m)\u001b[0m\u001b[1;33m\u001b[0m\u001b[1;33m\u001b[0m\u001b[0m\n\u001b[0m\u001b[0;32m     36\u001b[0m \u001b[0m_\u001b[0m\u001b[1;33m,\u001b[0m \u001b[0mthresh\u001b[0m \u001b[1;33m=\u001b[0m \u001b[0mcv\u001b[0m\u001b[1;33m.\u001b[0m\u001b[0mthreshold\u001b[0m\u001b[1;33m(\u001b[0m\u001b[0mgray\u001b[0m\u001b[1;33m,\u001b[0m \u001b[1;36m120\u001b[0m\u001b[1;33m,\u001b[0m \u001b[1;36m255\u001b[0m\u001b[1;33m,\u001b[0m \u001b[0mcv\u001b[0m\u001b[1;33m.\u001b[0m\u001b[0mTHRESH_BINARY_INV\u001b[0m \u001b[1;33m+\u001b[0m \u001b[0mcv\u001b[0m\u001b[1;33m.\u001b[0m\u001b[0mTHRESH_OTSU\u001b[0m\u001b[1;33m)\u001b[0m\u001b[1;33m\u001b[0m\u001b[1;33m\u001b[0m\u001b[0m\n\u001b[0;32m     37\u001b[0m \u001b[1;33m\u001b[0m\u001b[0m\n",
      "\u001b[1;31merror\u001b[0m: OpenCV(4.5.4-dev) d:\\a\\opencv-python\\opencv-python\\opencv\\modules\\imgproc\\src\\color.simd_helpers.hpp:92: error: (-2:Unspecified error) in function '__cdecl cv::impl::`anonymous-namespace'::CvtHelper<struct cv::impl::`anonymous namespace'::Set<3,4,-1>,struct cv::impl::A0x0e9d99ad::Set<1,-1,-1>,struct cv::impl::A0x0e9d99ad::Set<0,2,5>,2>::CvtHelper(const class cv::_InputArray &,const class cv::_OutputArray &,int)'\n> Invalid number of channels in input image:\n>     'VScn::contains(scn)'\n> where\n>     'scn' is 1\n"
     ]
    }
   ],
   "source": [
    "### Blurry Image Enhancement and Subsequent Pyzbar Automated Linear and 2D Barcode Reading ###\n",
    "### CSS844: Groups 4 & 2 ###\n",
    "### Nick Johnson ###\n",
    "### Code used is modified from Pyzbar GitHub and contributions by members of Stack Overflow ###\n",
    "\n",
    "## Import the necessary packages ##\n",
    "from pyzbar import pyzbar\n",
    "from PIL import Image\n",
    "import cv2 as cv\n",
    "import numpy as np\n",
    "import matplotlib.pyplot as plt\n",
    "\n",
    "\n",
    "## Read in the image as black and white only ##\n",
    "img = cv.imread(r'C:\\Users\\Nick\\Pictures\\corncrop.jpg', cv.IMREAD_GRAYSCALE)\n",
    "\n",
    "\n",
    "## Close image (dilation followed by an erosion) ##\n",
    "#closedimg = cv.morphologyEx(img, cv.MORPH_CLOSE, cv.getStructuringElement(cv.MORPH_RECT, (1, 21)))\n",
    "\n",
    "\n",
    "## Summation of Rows for Linear Barcodes ##\n",
    "imgdens = np.sum(img, axis=0)\n",
    "\n",
    "\n",
    "## Thresholding for Linear Barcodes ##\n",
    "#thresh = closedimg.copy()\n",
    "#for idx, val in enumerate(imgdens):\n",
    "#    if val< 10800:\n",
    "#        thresh[:,idx] = 0\n",
    "#(_, thresh2) = cv.threshold(thresh, 128, 255, cv.THRESH_BINARY + cv.THRESH_OTSU)\n",
    "\n",
    "\n",
    "## Thresholding for 2D Barcodes ##\n",
    "gray = cv.cvtColor(img, cv.COLOR_BGR2GRAY)\n",
    "_, thresh = cv.threshold(gray, 120, 255, cv.THRESH_BINARY_INV + cv.THRESH_OTSU)\n",
    "\n",
    "\n",
    "## Dilation and Contouring of 2D Barcodes ##\n",
    "kernel = np.ones((3, 3), np.uint8)\n",
    "thresh = cv.dilate(thresh, kernel, iterations=1)\n",
    "contours, _ = cv.findContours(thresh, cv.RETR_LIST, cv.CHAIN_APPROX_SIMPLE)\n",
    "\n",
    "\n",
    "## Read the Enhanced Image's Barcode ##\n",
    "#pyzbar.decode(thresh3)\n",
    "\n",
    "\n",
    "## Visualization of Enhanced Barcodes for Troubleshooting ##\n",
    "plt.subplot(223)\n",
    "plt.imshow(thresh, cmap='gray')\n",
    "plt.title('Result')\n",
    "plt.axis('off')"
   ]
  }
 ],
 "metadata": {
  "kernelspec": {
   "display_name": "Python 3",
   "language": "python",
   "name": "python3"
  },
  "language_info": {
   "codemirror_mode": {
    "name": "ipython",
    "version": 3
   },
   "file_extension": ".py",
   "mimetype": "text/x-python",
   "name": "python",
   "nbconvert_exporter": "python",
   "pygments_lexer": "ipython3",
   "version": "3.8.8"
  }
 },
 "nbformat": 4,
 "nbformat_minor": 5
}
